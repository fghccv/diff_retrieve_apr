{
 "cells": [
  {
   "cell_type": "code",
   "execution_count": 72,
   "metadata": {},
   "outputs": [],
   "source": [
    "import re\n",
    "with open(\"/home/zhoushiqi/workplace/apr/df4/all_project/defects4j-1.2.0/Lang/1/src/test/java/org/apache/commons/lang3/math/NumberUtilsTest.java\") as f:\n",
    "    text = f.read()\n",
    "text = text.split('\\n')\n",
    "doc = \"(/\\*\\*(.|\\n)+?\\*/)\"\n",
    "fun_p = \"((^\\s*public|private|protected)+\\s(static)?\\s?(\\w+)\\s(\\w+)\\((\\w+.*\\w*)?\\))\"\n",
    "pattern = re.compile(fun_p)\n",
    "indexs = [i for i in range(len(text)) if re.search(pattern, text[i])!=None]"
   ]
  },
  {
   "cell_type": "code",
   "execution_count": 77,
   "metadata": {},
   "outputs": [
    {
     "data": {
      "text/plain": [
       "2"
      ]
     },
     "execution_count": 77,
     "metadata": {},
     "output_type": "execute_result"
    }
   ],
   "source": [
    "a = [1,2,3]\n",
    "del a[0]\n",
    "a[0]"
   ]
  },
  {
   "cell_type": "code",
   "execution_count": 73,
   "metadata": {},
   "outputs": [],
   "source": [
    "def clean(s,k=1):\n",
    "    i = len(s)\n",
    "    while k!=0:\n",
    "        if s[i-1] == '}':\n",
    "            k -= 1\n",
    "        i -= 1\n",
    "    i += 1\n",
    "    return s[:i]\n",
    "def extract(i, j, k):\n",
    "    # doc_p = \"(/\\*\\*(.|\\n)+?\\*/)$\"\n",
    "    # doc_pattern = re.compile(doc_p)\n",
    "    def extract_doc(i):\n",
    "        while i>0 and text[i-1].strip() == \"\":\n",
    "            i -= 1\n",
    "        end = i\n",
    "        if \"*/\" in text[i-1]:\n",
    "            while i > 0 and \"/**\" not in text[i-1]:\n",
    "                i -= 1\n",
    "            start = i-1\n",
    "            return '\\n'.join(text[start:end])\n",
    "        else:\n",
    "            return \"\"\n",
    "    return [extract_doc(i),clean('\\n'.join(text[i:j]), k)]\n",
    "funs = ['\\n'.join(extract(indexs[i], indexs[i+1], 1)) for i in range(len(indexs)-1)]\n",
    "funs.append('\\n'.join(extract(indexs[-1], len(text), 2)))"
   ]
  },
  {
   "cell_type": "code",
   "execution_count": 79,
   "metadata": {},
   "outputs": [
    {
     "data": {
      "text/plain": [
       "False"
      ]
     },
     "execution_count": 79,
     "metadata": {},
     "output_type": "execute_result"
    }
   ],
   "source": [
    "['123','321'] in ['123', '321']"
   ]
  },
  {
   "cell_type": "code",
   "execution_count": 24,
   "metadata": {},
   "outputs": [
    {
     "name": "stdout",
     "output_type": "stream",
     "text": [
      "  Line 1\n",
      "- Line 2\n",
      "  Line 3\n",
      "  Line 4\n",
      "+ Line 5\n"
     ]
    }
   ],
   "source": [
    "import difflib\n",
    "\n",
    "# 示例文本\n",
    "text1 = \"\"\"Line 1\n",
    "Line 2\n",
    "Line 3\n",
    "Line 4\"\"\"\n",
    "text2 = \"\"\"Line 1\n",
    "Line 3\n",
    "Line 4\n",
    "Line 5\"\"\"\n",
    "\n",
    "# 将文本按行分割\n",
    "text1_lines = text1.splitlines()\n",
    "text2_lines = text2.splitlines()\n",
    "\n",
    "# 创建一个 Differ 对象\n",
    "d = difflib.Differ()\n",
    "\n",
    "# 计算差异\n",
    "diff = d.compare(text1_lines, text2_lines)\n",
    "\n",
    "# 输出差异\n",
    "for d in diff:\n",
    "    print(d)\n"
   ]
  },
  {
   "cell_type": "code",
   "execution_count": 1,
   "metadata": {},
   "outputs": [
    {
     "name": "stdout",
     "output_type": "stream",
     "text": [
      "Status Code: 0\n",
      "Output: total 1596\n",
      "-rw-r--r-- 1 zhoushiqi BigModel9 1427676 Apr 27 23:42 extract.jar\n",
      "-rw-r--r-- 1 zhoushiqi BigModel9    9186 Apr 27 19:09 get_data.py\n",
      "-rw-r--r-- 1 zhoushiqi BigModel9   49044 Apr 26 13:38 NumberUtils_change.java\n",
      "-rw-r--r-- 1 zhoushiqi BigModel9   49477 Apr 25 22:16 NumberUtils.java\n",
      "-rw-r--r-- 1 zhoushiqi BigModel9   87829 Apr 27 13:37 temp.ipynb\n",
      "\n"
     ]
    }
   ],
   "source": [
    "import subprocess\n",
    "\n",
    "command = [\"ls\", \"-l\"]\n",
    "result = subprocess.run(command, text=True, capture_output=True)\n",
    "\n",
    "print(f'Status Code: {result.returncode}')\n",
    "print(f'Output: {result.stdout}')\n",
    "if result.stderr:\n",
    "    print(f'Errors: {result.stderr}')\n"
   ]
  },
  {
   "cell_type": "code",
   "execution_count": 43,
   "metadata": {},
   "outputs": [],
   "source": [
    "import subprocess\n",
    "\n",
    "x = subprocess.run([\"find\", \"/home/zhoushiqi/workplace/apr/df4/all_project/defects4j-1.2.0/Math/99\", \"-type\",\"d\", \"-name\", \"test/./MathUtilsTest.java\", \"-o\", \"-name\", \"tests/**/MathUtilsTest.java\"], capture_output=True, text=True)"
   ]
  },
  {
   "cell_type": "code",
   "execution_count": 46,
   "metadata": {},
   "outputs": [
    {
     "data": {
      "text/plain": [
       "'/home/zhoushiqi/workplace/apr/df4/all_project/defects4j-1.2.0/Math/1/src/test/java/org/apache/commons/math3/fraction/BigFractionTest.java\\n'"
      ]
     },
     "execution_count": 46,
     "metadata": {},
     "output_type": "execute_result"
    }
   ],
   "source": [
    "subprocess.run([\"find\", '/home/zhoushiqi/workplace/apr/df4/all_project/defects4j-1.2.0/Math/1', \"-type\",\"f\", \"-name\", 'BigFractionTest.java'], capture_output=True, text=True).stdout"
   ]
  },
  {
   "cell_type": "code",
   "execution_count": 76,
   "metadata": {},
   "outputs": [],
   "source": [
    "result = subprocess.run(['java', '-jar', '/home/zhoushiqi/workplace/apr/src/code/test.jar', '/home/zhoushiqi/workplace/apr/src/code/NumberUtils_change.java', '122'], capture_output=True, text=True)"
   ]
  },
  {
   "cell_type": "code",
   "execution_count": 77,
   "metadata": {},
   "outputs": [
    {
     "data": {
      "text/plain": [
       "'{\"type\":\"Method\",\"range\":\"120-129\",\"javadoc\":\"<p>Convert a <code>String</code> to an <code>int</code>, returning a\\ndefault value if the conversion fails.</p>\\n\\n<p>If the string is <code>null</code>, the default value is returned.</p>\\n\\n<pre>\\n  NumberUtils.toInt(null, 1) = 1\\n  NumberUtils.toInt(\\\\\"\\\\\", 1)   = 1\\n  NumberUtils.toInt(\\\\\"1\\\\\", 0)  = 1\\n</pre>\\n\\n@param str the string to convert, may be null\\n@param defaultValue the default value\\n@return the int represented by the string, or the default if conversion fails\\n@since 2.1\\n\"}'"
      ]
     },
     "execution_count": 77,
     "metadata": {},
     "output_type": "execute_result"
    }
   ],
   "source": [
    "result.stdout"
   ]
  },
  {
   "cell_type": "code",
   "execution_count": 118,
   "metadata": {},
   "outputs": [],
   "source": [
    "import json\n",
    "x = json.loads('{\"type\":\"Method\",\"range\":\"260-284\",\"javadoc\":\"Pulls a balanced string off the queue. E.g. if queue is \\\\\"(one (two) three) four\\\\\", (,) will return \\\\\"one (two) three\\\\\",\\\\nand leave \\\\\" four\\\\\" on the queue. Unbalanced openers and closers can quoted (with \\' or \\\\\") or escaped (with \\\\). \"}')"
   ]
  },
  {
   "cell_type": "code",
   "execution_count": 85,
   "metadata": {},
   "outputs": [
    {
     "name": "stdout",
     "output_type": "stream",
     "text": [
      "<p>Convert a <code>String</code> to an <code>int</code>, returning a\n",
      "default value if the conversion fails.</p>\n",
      "\n",
      "<p>If the string is <code>null</code>, the default value is returned.</p>\n",
      "\n",
      "<pre>\n",
      "  NumberUtils.toInt(null, 1) = 1\n",
      "  NumberUtils.toInt(\"\", 1)   = 1\n",
      "  NumberUtils.toInt(\"1\", 0)  = 1\n",
      "</pre>\n",
      "\n",
      "@param str the string to convert, may be null\n",
      "@param defaultValue the default value\n",
      "@return the int represented by the string, or the default if conversion fails\n",
      "@since 2.1\n",
      "\n"
     ]
    }
   ],
   "source": [
    "print(x['javadoc'])"
   ]
  },
  {
   "cell_type": "code",
   "execution_count": 74,
   "metadata": {},
   "outputs": [
    {
     "name": "stdout",
     "output_type": "stream",
     "text": [
      "29\n"
     ]
    }
   ],
   "source": [
    "import json\n",
    "dep = [('Closure', 63), ('Closure', 93), ('Time', 21), ('Lang', 2)]\n",
    "dep.extend([('Cli', 6)])\n",
    "dep.extend([('Collections', i) for i in range(1, 25)])\n",
    "print(len(dep))\n",
    "def get_one_funcs(path):\n",
    "    with open(path) as f:\n",
    "        infos_one_func = []\n",
    "        for line in f:\n",
    "            info = json.loads(line)\n",
    "            if 'extract_src_erro' in info or 'extract_test_erro' in info:\n",
    "                continue\n",
    "            if (info['project'], info['bug_id']) in dep:\n",
    "                continue\n",
    "            if len(info['erro_repairs'])!=1:\n",
    "                continue\n",
    "            erro_repair = info['erro_repairs'][0]\n",
    "            if len(erro_repair['if_one_function']) != 1:\n",
    "                continue\n",
    "            elif not all(erro_repair['if_one_function']):\n",
    "                continue\n",
    "            infos_one_func.append(info)\n",
    "    return infos_one_func"
   ]
  },
  {
   "cell_type": "code",
   "execution_count": 76,
   "metadata": {},
   "outputs": [],
   "source": [
    "infos_one_func_1 = get_one_funcs(\"/home/zhoushiqi/workplace/apr/data/df4_process_data/all_info_defects4j-1.2.0.jsonl\")\n",
    "infos_one_func_2 = get_one_funcs(\"/home/zhoushiqi/workplace/apr/data/df4_process_data/all_info_defects4j-2.0.1.jsonl\")"
   ]
  },
  {
   "cell_type": "code",
   "execution_count": 77,
   "metadata": {},
   "outputs": [],
   "source": [
    "ids_1 = [(info['project'], info['bug_id']) for info in infos_one_func_1]\n",
    "ids_2 = [(info['project'], info['bug_id']) for info in infos_one_func_2]"
   ]
  },
  {
   "cell_type": "code",
   "execution_count": 84,
   "metadata": {},
   "outputs": [
    {
     "data": {
      "text/plain": [
       "236"
      ]
     },
     "execution_count": 84,
     "metadata": {},
     "output_type": "execute_result"
    }
   ],
   "source": [
    "len(set(ids_2)-set(ids_1))"
   ]
  },
  {
   "cell_type": "code",
   "execution_count": 85,
   "metadata": {},
   "outputs": [
    {
     "data": {
      "text/plain": [
       "493"
      ]
     },
     "execution_count": 85,
     "metadata": {},
     "output_type": "execute_result"
    }
   ],
   "source": [
    "257+236"
   ]
  }
 ],
 "metadata": {
  "kernelspec": {
   "display_name": "apr",
   "language": "python",
   "name": "python3"
  },
  "language_info": {
   "codemirror_mode": {
    "name": "ipython",
    "version": 3
   },
   "file_extension": ".py",
   "mimetype": "text/x-python",
   "name": "python",
   "nbconvert_exporter": "python",
   "pygments_lexer": "ipython3",
   "version": "3.10.0"
  }
 },
 "nbformat": 4,
 "nbformat_minor": 2
}
