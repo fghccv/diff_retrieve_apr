{
 "cells": [
  {
   "cell_type": "code",
   "execution_count": 249,
   "metadata": {},
   "outputs": [
    {
     "name": "stdout",
     "output_type": "stream",
     "text": [
      "29\n"
     ]
    }
   ],
   "source": [
    "import json\n",
    "dep = [('Closure', 63), ('Closure', 93), ('Time', 21), ('Lang', 2)]\n",
    "dep.extend([('Cli', 6)])\n",
    "dep.extend([('Collections', i) for i in range(1, 25)])\n",
    "print(len(dep))\n",
    "def get_one_funcs(path):\n",
    "    with open(path) as f:\n",
    "        infos_one_func = []\n",
    "        for line in f:\n",
    "            info = json.loads(line)\n",
    "            if 'extract_src_erro' in info or 'extract_test_erro' in info:\n",
    "                continue\n",
    "            if (info['project'], info['bug_id']) in dep:\n",
    "                continue\n",
    "            if len(info['erro_repairs'])!=1:\n",
    "                continue\n",
    "            erro_repair = info['erro_repairs'][0]\n",
    "            if len(erro_repair['if_one_function']) != 1:\n",
    "                continue\n",
    "            elif not all(erro_repair['if_one_function']):\n",
    "                continue\n",
    "            infos_one_func.append(info)\n",
    "    return infos_one_func"
   ]
  },
  {
   "cell_type": "code",
   "execution_count": 3,
   "metadata": {},
   "outputs": [
    {
     "data": {
      "text/plain": [
       "['1']"
      ]
     },
     "execution_count": 3,
     "metadata": {},
     "output_type": "execute_result"
    }
   ],
   "source": [
    "import re\n",
    "r = 'Failing tests: 1\\n  - org.apache.commons.'\n",
    "re.findall(\"Failing tests: (\\d)\\n\", r)"
   ]
  },
  {
   "cell_type": "code",
   "execution_count": 250,
   "metadata": {},
   "outputs": [],
   "source": [
    "infos_one_func_1 = get_one_funcs(\"/home/zhoushiqi/workplace/apr/data/df4_process_data/all_info_defects4j-1.2.0_external.jsonl\")\n",
    "# infos_one_func_2 = get_one_funcs(\"/home/zhoushiqi/workplace/apr/data/df4_process_data/all_info_defects4j-2.0.1.jsonl\")"
   ]
  },
  {
   "cell_type": "code",
   "execution_count": 136,
   "metadata": {},
   "outputs": [
    {
     "data": {
      "text/plain": [
       "255"
      ]
     },
     "execution_count": 136,
     "metadata": {},
     "output_type": "execute_result"
    }
   ],
   "source": [
    "len(infos_one_func_1)"
   ]
  },
  {
   "cell_type": "code",
   "execution_count": 455,
   "metadata": {},
   "outputs": [
    {
     "data": {
      "text/plain": [
       "'    public void atan2(final double[] y, final int yOffset,\\n                      final double[] x, final int xOffset,\\n                      final double[] result, final int resultOffset) {\\n\\n        // compute r = sqrt(x^2+y^2)\\n        double[] tmp1 = new double[getSize()];\\n        multiply(x, xOffset, x, xOffset, tmp1, 0);      // x^2\\n        double[] tmp2 = new double[getSize()];\\n        multiply(y, yOffset, y, yOffset, tmp2, 0);      // y^2\\n        add(tmp1, 0, tmp2, 0, tmp2, 0);                 // x^2 + y^2\\n        rootN(tmp2, 0, 2, tmp1, 0);                     // r = sqrt(x^2 + y^2)\\n\\n        if (x[xOffset] >= 0) {\\n\\n            // compute atan2(y, x) = 2 atan(y / (r + x))\\n            add(tmp1, 0, x, xOffset, tmp2, 0);          // r + x\\n            divide(y, yOffset, tmp2, 0, tmp1, 0);       // y /(r + x)\\n            atan(tmp1, 0, tmp2, 0);                     // atan(y / (r + x))\\n            for (int i = 0; i < tmp2.length; ++i) {\\n                result[resultOffset + i] = 2 * tmp2[i]; // 2 * atan(y / (r + x))\\n            }\\n\\n        } else {\\n\\n            // compute atan2(y, x) = +/- pi - 2 atan(y / (r - x))\\n            subtract(tmp1, 0, x, xOffset, tmp2, 0);     // r - x\\n            divide(y, yOffset, tmp2, 0, tmp1, 0);       // y /(r - x)\\n            atan(tmp1, 0, tmp2, 0);                     // atan(y / (r - x))\\n            result[resultOffset] =\\n                    ((tmp2[0] <= 0) ? -FastMath.PI : FastMath.PI) - 2 * tmp2[0]; // +/-pi - 2 * atan(y / (r - x))\\n            for (int i = 1; i < tmp2.length; ++i) {\\n                result[resultOffset + i] = -2 * tmp2[i]; // +/-pi - 2 * atan(y / (r - x))\\n            }\\n\\n        }\\n\\n        // fix value to take special cases (+0/+0, +0/-0, -0/+0, -0/-0, +/-infinity) correctly\\n\\n    }'"
      ]
     },
     "execution_count": 455,
     "metadata": {},
     "output_type": "execute_result"
    }
   ],
   "source": [
    "infos_one_func_1[0]['erro_repairs'][0]['src_code'][0]"
   ]
  },
  {
   "cell_type": "code",
   "execution_count": 457,
   "metadata": {},
   "outputs": [
    {
     "data": {
      "text/plain": [
       "231"
      ]
     },
     "execution_count": 457,
     "metadata": {},
     "output_type": "execute_result"
    }
   ],
   "source": [
    "ids_1 = {(info['project'], info['bug_id']) for info in infos_one_func_1}\n",
    "ids_2 = {(info['project'], info['bug_id']) for info in infos_one_func_2}\n",
    "new_ids_2 = set(ids_2) - set(ids_1)\n",
    "len(new_ids_2)"
   ]
  },
  {
   "cell_type": "code",
   "execution_count": 251,
   "metadata": {},
   "outputs": [],
   "source": [
    "import utils\n",
    "utils.write_jsonl(\"/home/zhoushiqi/workplace/apr/data/df4_process_data/one_function/1.2_external.jsonl\",infos_one_func_1)"
   ]
  },
  {
   "cell_type": "code",
   "execution_count": 28,
   "metadata": {},
   "outputs": [],
   "source": [
    "new_ids_2 = set(ids_2)-set(ids_1)"
   ]
  },
  {
   "cell_type": "code",
   "execution_count": 29,
   "metadata": {},
   "outputs": [
    {
     "data": {
      "text/plain": [
       "233"
      ]
     },
     "execution_count": 29,
     "metadata": {},
     "output_type": "execute_result"
    }
   ],
   "source": [
    "len(new_ids_2)"
   ]
  },
  {
   "cell_type": "code",
   "execution_count": 7,
   "metadata": {},
   "outputs": [],
   "source": [
    "infos_one_func_2_new = []\n",
    "for info in infos_one_func_2:\n",
    "    if (info['project'], info['bug_id']) in new_ids_2:\n",
    "        infos_one_func_2_new.append(info)"
   ]
  },
  {
   "cell_type": "code",
   "execution_count": 8,
   "metadata": {},
   "outputs": [
    {
     "data": {
      "text/plain": [
       "231"
      ]
     },
     "execution_count": 8,
     "metadata": {},
     "output_type": "execute_result"
    }
   ],
   "source": [
    "len(infos_one_func_2_new)"
   ]
  },
  {
   "cell_type": "code",
   "execution_count": 12,
   "metadata": {},
   "outputs": [
    {
     "data": {
      "text/plain": [
       "231"
      ]
     },
     "execution_count": 12,
     "metadata": {},
     "output_type": "execute_result"
    }
   ],
   "source": [
    "import utils\n",
    "datas = utils.read_jsonl(\"/home/zhoushiqi/workplace/apr/data/df4_process_data/one_function/2.0.jsonl\")\n",
    "len(datas)"
   ]
  },
  {
   "cell_type": "code",
   "execution_count": 11,
   "metadata": {},
   "outputs": [],
   "source": [
    "utils.write_jsonl(\"/home/zhoushiqi/workplace/apr/data/df4_process_data/one_function/1.2.jsonl\", infos_one_func_1)\n",
    "utils.write_jsonl(\"/home/zhoushiqi/workplace/apr/data/df4_process_data/one_function/2.0.jsonl\", infos_one_func_2_new)"
   ]
  },
  {
   "cell_type": "code",
   "execution_count": 32,
   "metadata": {},
   "outputs": [
    {
     "name": "stdout",
     "output_type": "stream",
     "text": [
      "  public void testPropertyOfMethod() {\n",
      "    testFailure(\"a.protoype.b = {}; \" +\n",
      "        \"a.prototype.b.c = function() { this.foo = 3; };\");\n",
      "  }\n"
     ]
    }
   ],
   "source": [
    "print(\"  public void testPropertyOfMethod() {\\n    testFailure(\\\"a.protoype.b = {}; \\\" +\\n        \\\"a.prototype.b.c = function() { this.foo = 3; };\\\");\\n  }\")"
   ]
  },
  {
   "cell_type": "code",
   "execution_count": 4,
   "metadata": {},
   "outputs": [],
   "source": [
    "results = utils.read_jsonl(\"/home/zhoushiqi/workplace/apr/data/evaluate_results/mixtral/baseline.jsonl\")"
   ]
  },
  {
   "cell_type": "code",
   "execution_count": 7,
   "metadata": {},
   "outputs": [
    {
     "data": {
      "text/plain": [
       "[' The buggy line in the `findMax` method is:\\n\\n`for (int i = 1; i < numbers.length; i++) {`\\n\\nIt should be:\\n\\n`for (int i = 1; i <= numbers.length - 1; i++) {` or simply `for (int i = 1; i < numbers.length; i++) {`\\n\\n---\\n\\nThe buggy code in the `parse` method is:\\n\\n`Number im = parseNumber(source, getRealFormat(), pos);`\\n\\nIt should be:\\n\\n`Number im = parseNumber(source, getImaginaryFormat(), pos);`\\n\\nAlso, in the same method, there is a comparison with the imaginary character that seems to be incorrect:\\n\\n`source.substring(startIndex, endIndex).compareTo(getImaginaryCharacter()) != 0`\\n\\nIt should be:\\n\\n`source.substring(startIndex, endIndex).equals(getImaginaryCharacter())`\\n\\nBecause the `getImaginaryCharacter()` returns a string with a length of 1, so it should be compared with the equals method instead of compareTo.',\n",
       " ' The buggy line in the `findMax` method is `for (int i = 1; i < numbers.length; i++)`. It should be `for (int i = 1; i < numbers.length; i++)` instead. This change will ensure that the first element of the array is also checked for being the maximum value.\\n\\nThe `StringIndexOutOfBoundsException` in the `parse` method suggests that there is an issue with the way substrings are being compared. The problematic line is `source.substring(startIndex, endIndex).compareTo(getImaginaryCharacter()) != 0`. Instead of getting a substring and comparing it to `getImaginaryCharacter()`, you can use `startIndex` and `endIndex` to check if the characters at those indices in `source` match `getImaginaryCharacter()`.\\n\\nHere\\'s the corrected `findMax` method:\\n\\n```java\\npublic static int findMax(int[] numbers) {\\n    if (numbers.length == 0) {\\n        throw new IllegalArgumentException(\"Array should not be empty\");\\n    }\\n    int max = numbers[0];\\n    for (int i = 1; i < numbers.length; i++) {\\n        if (numbers[i] > max) {\\n            max = numbers[i];\\n        }\\n    }\\n    return max;\\n}\\n```\\n\\nAnd here\\'s the corrected `parse` method:\\n\\n```java\\npublic Complex parse(String source, ParsePosition pos) {\\n    int initialIndex = pos.getIndex();\\n\\n    // parse whitespace\\n    parseAndIgnoreWhitespace(source, pos);\\n\\n    // parse real\\n    Number re = parseNumber(source, getRealFormat(), pos);\\n    if (re == null) {\\n        // invalid real number\\n        // set index back to initial, error index should already be set\\n        // character examined.\\n        pos.setIndex(initialIndex);\\n        return null;\\n    }\\n\\n    // parse sign\\n    int startIndex = pos.getIndex();\\n    char c = parseNextCharacter(source, pos);\\n    int sign = 0;\\n    switch (c) {\\n        case 0 :\\n            // no sign\\n            // return real only complex number\\n            return new Complex(re.doubleValue(), 0.0);\\n        case \\'-\\' :\\n            sign = -1;\\n            break;\\n        case \\'+\\' :\\n            sign = 1;\\n            break;\\n        default :\\n            // invalid sign\\n            // set index back to initial, error index should be the last\\n            // character examined.\\n            pos.setIndex(initialIndex);\\n            pos.setErrorIndex(startIndex);\\n            return null;\\n    }\\n\\n    // parse whitespace\\n    parseAndIgnoreWhitespace(source, pos);\\n\\n    // parse imaginary\\n    Number im = parseNumber(source, getRealFormat(), pos);\\n    if (im == null) {\\n        // invalid imaginary number\\n        // set index back to initial, error index should already be set\\n        // character examined.\\n        pos.setIndex(initialIndex);\\n        return null;\\n    }\\n\\n    int endIndex = pos.getIndex();\\n    if (endIndex - startIndex != getImaginaryCharacter().length()) {\\n        // set index back to initial, error index should be the start index\\n        // character examined.\\n        pos.setIndex(initialIndex);\\n        pos.setErrorIndex(startIndex);\\n        return null;\\n    }\\n\\n    for (int i = 0; i < getImaginaryCharacter().length(); i++) {\\n        if (source.charAt(startIndex + i) != getImaginaryCharacter().charAt(i)) {\\n            pos.setIndex(initialIndex);\\n            pos.setErrorIndex(startIndex + i);\\n            return null;\\n        }\\n    }\\n\\n    pos.setIndex(endIndex);\\n\\n    return new Complex(re.doubleValue(), im.doubleValue() * sign);\\n}\\n```',\n",
       " ' The buggy line in the `findMax` method is:\\n\\n`for (int i = 1; i < numbers.length; i++) {`\\n\\nIt should be:\\n\\n`for (int i = 1; i <= numbers.length - 1; i++) {` or simply `for (int i = 1; i < numbers.length; i++) {`\\n\\n---\\n\\nThe buggy code in the `parse` method is:\\n\\n`Number im = parseNumber(source, getRealFormat(), pos);`\\n\\nIt should be:\\n\\n`Number im = parseNumber(source, getImaginaryFormat(), pos);`',\n",
       " \" The buggy line in the `findMax` method is:\\n\\n`for (int i = 1; i < numbers.length; i++) {`\\n\\nIt should start from 1 (to skip the first element, which has already been assigned to `max`), but it should go until `numbers.length`, not `numbers.length - 1`. The corrected line should be:\\n\\n`for (int i = 1; i <= numbers.length - 1; i++) {`\\n\\n---\\n\\nRegarding the second issue, the provided test code is not a failing test case. Instead, it's a test class that appears to be working correctly, and the exception occurs outside the test code provided. To better understand the issue, a failing test case should be provided. However, I will point out a potential issue within the `parse` method that might be causing the `StringIndexOutOfBoundsException`.\\n\\nIn this block:\\n\\n```java\\nint n = getImaginaryCharacter().length();\\nstartIndex = pos.getIndex();\\nint endIndex = startIndex + n;\\nif (source.substring(startIndex, endIndex).compareTo(getImaginaryCharacter()) != 0) {\\n    // set index back to initial, error index should be the start index\\n    // character examined.\\n    pos.setIndex(initialIndex);\\n    pos.setErrorIndex(startIndex);\\n    return null;\\n}\\npos.setIndex(endIndex);\\n```\\n\\nThe `endIndex` might go beyond the length of the `source` string when `startIndex` is near the end of the string, causing `substring` to throw the `StringIndexOutOfBoundsException`. This can happen if the `pos.getIndex()` returns a value very close to the length of the string.\\n\\nTo fix this potential issue, the `endIndex` should be set like this:\\n\\n`int endIndex = Math.min(startIndex + n, source.length());`\\n\\nThis change ensures that `endIndex` will never be greater than the length of the `source` string, preventing the `StringIndexOutOfBoundsException`.\",\n",
       " \" The buggy line in the `findMax` method is:\\n\\n`for (int i = 1; i < numbers.length; i++) {`\\n\\nIt should be:\\n\\n`for (int i = 1; i <= numbers.length - 1; i++) {`\\n\\nor simply:\\n\\n`for (int i = 1; i < numbers.length; i++) {`\\n\\nThe original code starts at the second element and goes until the second to last element, which means it skips the last element in the array. The corrected code will iterate through all elements in the array, comparing each element to find the maximum value.\\n\\n---\\n\\nRegarding the `parse` method, the issue is related to the `substring` method call used in the following condition:\\n\\n`source.substring(startIndex, endIndex).compareTo(getImaginaryCharacter()) != 0`\\n\\nThe `substring` method throws a `StringIndexOutOfBoundsException` if the `endIndex` is greater than the length of the string. In this case, the `endIndex` is calculated as:\\n\\n`int endIndex = startIndex + n;`\\n\\nwhere `n` is the length of the imaginary character, which can be either 'i' or 'j'. If the imaginary character is not found in the string, the `endIndex` will be set to the last index of the string plus the length of the imaginary character. This can result in an `endIndex` greater than the length of the string, which will throw a `StringIndexOutOfBoundsException`.\\n\\nTo fix this issue, the `endIndex` calculation should be updated to the following:\\n\\n`int endIndex = Math.min(startIndex + n, source.length());`\\n\\nThis will ensure that the `endIndex` is never greater than the length of the string, preventing the `StringIndexOutOfBoundsException`.\",\n",
       " ' The buggy line in the `findMax` method is:\\n\\n`for (int i = 1; i < numbers.length; i++) {`\\n\\nIt should start from 1 (to skip the first element) instead of 0 (which will include all elements):\\n\\n`for (int i = 1; i < numbers.length; i++) {`\\n\\nshould be:\\n\\n`for (int i = 1; i <= numbers.length - 1; i++) {`\\n\\n---\\n\\nFor the `parse` method in the `ComplexFormatTest`, the issue seems to be related to string indexing and substring comparison.\\n\\nHere:\\n\\n`if (source.substring(startIndex, endIndex).compareTo(getImaginaryCharacter()) != 0) {`\\n\\nChange the condition to consider the case-insensitive comparison of the imaginary character:\\n\\n`if (!source.regionMatches(true, startIndex, getImaginaryCharacter(), 0, n)) {`\\n\\nHere, `n` is the length of the imaginary character and `regionMatches` checks for a case-insensitive match in the specified region.',\n",
       " ' The buggy line in the `findMax` method is:\\n\\n`for (int i = 1; i < numbers.length; i++) {`\\n\\nIt should be:\\n\\n`for (int i = 1; i < numbers.length; i++) {`\\n\\nThe reason for this bug is that the iteration should start from the first index (i = 1) instead of zero (i = 0) because the maximum value has already been initialized with the first element in the array. However, the loop should still run until the second last element (i < numbers.length) to ensure that all elements are compared.\\n\\n---\\n\\nFor the `parse` method in the `ComplexFormat` class, the bug is not directly visible in the provided code. However, the test failure suggests that there is an issue with the `parseNumber` method or the `getRealFormat()` method. The `StringIndexOutOfBoundsException` suggests that the method is trying to access an index that is out of bounds of the input string.\\n\\nTo refine the code for the bug report, we can add some debug logs and error handling to help identify the root cause of the issue. For example, we can add some logging statements to print out the input string and the expected/actual values being parsed. We can also add some error handling to catch the `StringIndexOutOfBoundsException` and print out the relevant information to help diagnose the issue.\\n\\nHere\\'s an example of how we can refine the code for the bug report:\\n```csharp\\npublic Complex parse(String source, ParsePosition pos) {\\n    int initialIndex = pos.getIndex();\\n\\n    // parse whitespace\\n    parseAndIgnoreWhitespace(source, pos);\\n\\n    // parse real\\n    Number re = parseNumber(source, getRealFormat(), pos);\\n    if (re == null) {\\n        // invalid real number\\n        // print out the input string and the error index\\n        System.out.println(\"Invalid real number: \" + source +\\n            \", error index: \" + pos.getErrorIndex());\\n\\n        // set index back to initial, error index should already be set\\n        // character examined.\\n        pos.setIndex(initialIndex);\\n        return null;\\n    }\\n\\n    // parse sign\\n    int startIndex = pos.getIndex();\\n    char c = parseNextCharacter(source, pos);\\n    int sign = 0;\\n    switch (c) {\\n    case 0 :\\n        // no sign\\n        // return real only complex number\\n        return new Complex(re.doubleValue(), 0.0);\\n    case \\'-\\' :\\n        sign = -1;\\n        break;\\n    case \\'+\\' :\\n        sign = 1;\\n        break;\\n    default :\\n        // invalid sign\\n        // print out the input string and the error index\\n        System.out.println(\"Invalid sign: \" + source +\\n            \", error index: \" + pos.getErrorIndex());\\n\\n        // set index back to initial, error index should be the last\\n        // character examined.\\n        pos.setIndex(initialIndex);\\n        pos.setErrorIndex(startIndex);\\n        return null;\\n    }\\n\\n    // parse whitespace\\n    parseAndIgnoreWhitespace(source, pos);\\n\\n    // parse imaginary\\n    Number im = parseNumber(source, getRealFormat(), pos);\\n    if (im == null) {\\n        // invalid imaginary number\\n        // print out the input string and the error index\\n        System.out.println(\"Invalid imaginary number: \" + source +\\n            \", error index: \" + pos.getErrorIndex());\\n\\n        // set index back to initial, error index should already be set\\n        // character examined.\\n        pos.setIndex(initialIndex);\\n        return null;\\n    }\\n\\n    // parse imaginary character\\n    int n = getImaginaryCharacter().length();\\n    startIndex = pos.getIndex();\\n    int endIndex = startIndex + n;\\n    if (\\n        source.substring(startIndex, endIndex).compareTo(\\n        getImaginaryCharacter()) != 0) {\\n        // invalid imaginary character\\n        // print out the input string and the error index\\n        System.out.println(\"Invalid imaginary character: \" + source +\\n            \", error index: \" + startIndex);\\n\\n        // set index back to initial, error index should be the start index\\n        // character examined.\\n        pos.setIndex(initialIndex);\\n        pos.setErrorIndex(startIndex);\\n        return null;\\n    }\\n    pos.setIndex(endIndex);\\n\\n    return new Complex(re.doubleValue(), im.doubleValue() * sign);\\n}\\n```\\nBy adding some debug logs and error handling, we can identify the root cause of the issue and provide a more detailed bug report.',\n",
       " ' The buggy line in the `findMax` method is:\\n\\n`for (int i = 1; i < numbers.length; i++) {`\\n\\nIt should be:\\n\\n`for (int i = 1; i <= numbers.length - 1; i++) {`\\n\\nor simply:\\n\\n`for (int i = 1; i < numbers.length; i++) {`\\n\\nThe original code starts from the second element (index 1) and goes until the second-to-last element (index `numbers.length - 1`). This means that the last element of the array is never checked for being the maximum value. The corrected code should go until the last element (index `numbers.length - 1`) to ensure that it is checked.\\n\\n---\\n\\nThe buggy line in the `parse` method is:\\n\\n`Number im = parseNumber(source, getRealFormat(), pos);`\\n\\nIt should be:\\n\\n`Number im = parseNumber(source, getImaginaryFormat(), pos);`\\n\\nThe original code uses the real format to parse the imaginary part of the complex number. This results in an incorrect parsing of the imaginary part. The corrected code should use the imaginary format to parse the imaginary part.\\n\\nIn addition, the test code should be updated to include a test case with a negative imaginary part to verify the corrected behavior. For example:\\n\\n`assertEquals(new Complex(-1.5, -2.3), formatter.parse(\"1.5+-2.3i\", pos));`',\n",
       " ' The buggy line in the `findMax` method is:\\n\\n`for (int i = 1; i < numbers.length; i++) {`\\n\\nIt should be:\\n\\n`for (int i = 1; i < numbers.length; i++) {`\\n\\nThe reason for this is that the loop starts checking from the second element in the array, assuming that the first element is already the maximum. However, if the first element is not the maximum, then it will be missed by the loop.\\n\\n---\\n\\nRegarding the `parse` method in the `ComplexFormat` class, the issue seems to be related to the way the input string is being compared to the imaginary character. Specifically, the following lines seem to be causing the issue:\\n\\n```scss\\nint n = getImaginaryCharacter().length();\\nstartIndex = pos.getIndex();\\nint endIndex = startIndex + n;\\nif (source.substring(startIndex, endIndex).compareTo(getImaginaryCharacter()) != 0) {\\n    // ...\\n}\\n```\\n\\nHere, `getImaginaryCharacter()` probably returns a string containing a single character (e.g., \"i\" or \"j\"). The problem is that `source.substring(startIndex, endIndex)` will also include any whitespace characters that might precede the imaginary character in the input string. This means that the comparison will fail, even if the input string contains the correct imaginary character.\\n\\nTo fix this issue, you can modify the code as follows:\\n\\n```scss\\nint n = getImaginaryCharacter().length();\\nstartIndex = pos.getIndex();\\nint endIndex = startIndex + n;\\nString substring = source.substring(startIndex, endIndex);\\nif (!substring.trim().equals(getImaginaryCharacter())) {\\n    // ...\\n}\\n```\\n\\nHere, `trim()` is used to remove any whitespace characters from the substring before comparing it to the imaginary character.',\n",
       " ' The buggy line in the `findMax` method is:\\n\\n`for (int i = 1; i < numbers.length; i++) {`\\n\\nIt should be:\\n\\n`for (int i = 1; i <= numbers.length - 1; i++) {` or simply `for (int i = 1; i < numbers.length; i++) {`\\n\\n---\\n\\nThe buggy code in the `parse` method is:\\n\\n`Number im = parseNumber(source, getRealFormat(), pos);`\\n\\nIt should be:\\n\\n`Number im = parseNumber(source, getImaginaryFormat(), pos);`\\n\\nAlso, the comparison of the imaginary character should be:\\n\\n`source.substring(startIndex, endIndex).compareToIgnoreCase(getImaginaryCharacter()) == 0`\\n\\nThis is to make the comparison case-insensitive.']"
      ]
     },
     "execution_count": 7,
     "metadata": {},
     "output_type": "execute_result"
    }
   ],
   "source": [
    "results[1]"
   ]
  },
  {
   "cell_type": "code",
   "execution_count": 1,
   "metadata": {},
   "outputs": [],
   "source": [
    "import utils\n",
    "import json"
   ]
  },
  {
   "cell_type": "code",
   "execution_count": 24,
   "metadata": {},
   "outputs": [
    {
     "data": {
      "text/plain": [
       "67"
      ]
     },
     "execution_count": 24,
     "metadata": {},
     "output_type": "execute_result"
    }
   ],
   "source": [
    "import utils\n",
    "results = utils.read_jsonl(\"/home/zhoushiqi/workplace/apr/data/evaluate_results/deepseek/retrieval/baseline_1.2_random_N200_T1_result.jsonl\")\n",
    "# plausible = utils.read_jsonl(\"/home/zhoushiqi/workplace/apr/data/evaluate_results/deepseek/retrieval/baseline_1.2_OnlyBuggycode_N100_T1_result.jsonl\")\n",
    "# plausible = [f\"{p['project']}_{p['bug_id']}\" for p in plausible if \"Failing tests: 0\\n\" in p['result']]\n",
    "t = 0\n",
    "# x3 = {}\n",
    "for result in results:\n",
    "    # if f\"{result['project']}_{result['bug_id']}\" in plausible:continue\n",
    "    # x3[f\"{result['project']}_{result['bug_id']}]\"] = result['result']\n",
    "    if \"Failing tests: 0\\n\" in result['result'][:100]:\n",
    "        t += 1\n",
    "t"
   ]
  },
  {
   "cell_type": "code",
   "execution_count": 2,
   "metadata": {},
   "outputs": [],
   "source": [
    "def ls2d(ls):\n",
    "    new = {}\n",
    "    for l in ls:\n",
    "        new[f\"{l['project']}_{l['bug_id']}\"] = l\n",
    "    return new"
   ]
  },
  {
   "cell_type": "code",
   "execution_count": 3,
   "metadata": {},
   "outputs": [],
   "source": [
    "import utils\n",
    "xs = ls2d(utils.read_jsonl(\"/home/zhoushiqi/workplace/apr/data/evaluate_results/deepseek/retrieval/baseline_1.2_random_N1_T1.jsonl\"))\n",
    "ys = ls2d(utils.read_jsonl(\"/home/zhoushiqi/workplace/apr/data/evaluate_results/deepseek/retrieval/baseline_1.2_random_N2_T1.jsonl\"))"
   ]
  },
  {
   "cell_type": "code",
   "execution_count": 4,
   "metadata": {},
   "outputs": [
    {
     "ename": "AssertionError",
     "evalue": "",
     "output_type": "error",
     "traceback": [
      "\u001b[0;31m---------------------------------------------------------------------------\u001b[0m",
      "\u001b[0;31mAssertionError\u001b[0m                            Traceback (most recent call last)",
      "Cell \u001b[0;32mIn[4], line 2\u001b[0m\n\u001b[1;32m      1\u001b[0m \u001b[38;5;28;01mfor\u001b[39;00m x \u001b[38;5;129;01min\u001b[39;00m xs:\n\u001b[0;32m----> 2\u001b[0m     \u001b[38;5;28;01massert\u001b[39;00m xs[x][\u001b[38;5;124m'\u001b[39m\u001b[38;5;124mprompt\u001b[39m\u001b[38;5;124m'\u001b[39m] \u001b[38;5;241m==\u001b[39m ys[x][\u001b[38;5;124m'\u001b[39m\u001b[38;5;124mprompt\u001b[39m\u001b[38;5;124m'\u001b[39m]\n",
      "\u001b[0;31mAssertionError\u001b[0m: "
     ]
    }
   ],
   "source": [
    "for x in xs:\n",
    "    assert xs[x]['prompt'] == ys[x]['prompt']"
   ]
  },
  {
   "cell_type": "code",
   "execution_count": 9,
   "metadata": {},
   "outputs": [],
   "source": [
    "f = open(\"/home/zhoushiqi/workplace/apr/data/megadiff-single-function/process.jsonl\")\n",
    "import json\n",
    "for x in f:\n",
    "    y = json.loads(x)\n",
    "    break"
   ]
  },
  {
   "cell_type": "code",
   "execution_count": 12,
   "metadata": {},
   "outputs": [
    {
     "name": "stdout",
     "output_type": "stream",
     "text": [
      "@@ -20,5 +20,5 @@\n",
      "\n",
      "             }\n",
      "         } while(remaining>0);\n",
      " \n",
      "-        onDead(new TimeoutException(\"Ping started on \"+start+\" hasn't completed at \"+System.currentTimeMillis()).initCause(e));\n",
      "+        onDead(new TimeoutException(\"Ping started on \"+start+\" hasn't completed at \"+System.currentTimeMillis()));//.initCause(e)\n",
      "     }\n"
     ]
    }
   ],
   "source": [
    "print(y['diff_context'])"
   ]
  },
  {
   "cell_type": "code",
   "execution_count": null,
   "metadata": {},
   "outputs": [],
   "source": []
  }
 ],
 "metadata": {
  "kernelspec": {
   "display_name": "apr",
   "language": "python",
   "name": "python3"
  },
  "language_info": {
   "codemirror_mode": {
    "name": "ipython",
    "version": 3
   },
   "file_extension": ".py",
   "mimetype": "text/x-python",
   "name": "python",
   "nbconvert_exporter": "python",
   "pygments_lexer": "ipython3",
   "version": "3.10.0"
  }
 },
 "nbformat": 4,
 "nbformat_minor": 2
}
